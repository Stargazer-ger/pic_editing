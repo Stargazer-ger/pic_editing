
# importing the library
from PIL import Image
import matplotlib.pyplot as plt
import numpy as np

image = Image.open("python_pipline/example_pics/landwehr.jpg")
 
# this open the photo viewer
image.show()
plt.imshow(image)
